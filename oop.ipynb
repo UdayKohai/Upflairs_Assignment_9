{
 "cells": [
  {
   "cell_type": "code",
   "execution_count": null,
   "metadata": {},
   "outputs": [],
   "source": [
    "class Area:\n",
    "    def __init__(self,radius):\n",
    "        self.radi= radius\n",
    "    \n",
    "    def calculate_area(self):\n",
    "        self.area= 3.14*(self.radi**2)\n",
    "        print(f\"Area of Circle : {self.area} unit squared\")\n",
    "\n",
    "print('#'.center(60,'#'))\n",
    "try:\n",
    "    radi= float(input(\"Enter radi of a Circle : \"))\n",
    "    if radi<0:\n",
    "        raise ValueError(\"Negative Number Entered.\")\n",
    "    \n",
    "except Exception as e:\n",
    "    print(f\"Error : {e}\")\n",
    "    \n",
    "else:\n",
    "    Circle = Area(radi)\n",
    "    Circle.calculate_area()\n",
    "    \n",
    "finally:\n",
    "    print('#'.center(60,'#'))"
   ]
  },
  {
   "cell_type": "code",
   "execution_count": null,
   "metadata": {},
   "outputs": [],
   "source": [
    "class Discount:\n",
    "    def __init__(self) :\n",
    "\n",
    "        self.mrp= float(input(\"Enter Original Price : \"))\n",
    "        self.discount=float(input(\"Enter thr Discount in percentage : \"))\n",
    "        if self.discount<0 or self.mrp<0:\n",
    "            raise ValueError(\"Negative Numer are not allowed\")\n",
    "            \n",
    "        else:\n",
    "            self.discount/=100\n",
    "        \n",
    "    def calculate_disccount(self):\n",
    "        self.mrp-=self.mrp*self.discount\n",
    "        print(f'Final Price = {self.mrp}')\n",
    "        return self.mrp\n",
    "\n",
    "print('#'.center(60,'#'))\n",
    "\n",
    "try:\n",
    "    obj= Discount()\n",
    "    o=obj.calculate_disccount()\n",
    "\n",
    "except Exception as e:\n",
    "    print(f\"Error : {e}\")\n",
    "\n",
    "finally:\n",
    "    print('#'.center(60,'#'))"
   ]
  },
  {
   "cell_type": "code",
   "execution_count": 5,
   "metadata": {},
   "outputs": [],
   "source": [
    "class Vowel:\n",
    "    def __init__(self) -> None:\n",
    "        self.str1=str(input(\"Enter a String \"))\n",
    "        self.str1=(self.str1).lower()\n",
    "    def count_vowel(self):\n",
    "        c={}\n",
    "        for item in self.str1:\n",
    "            if item in ['a','e','i','o','u']:\n",
    "                if item in c:\n",
    "                    c[item]+=1\n",
    "                else:\n",
    "                    c[item]=1\n",
    "            else:\n",
    "                continue\n",
    "        if len(c)==0:\n",
    "            raise IndexError(f\"No Vowels in the string {self.str1}\")\n",
    "        for item in c:\n",
    "            print(f\"{item} -> {c[item]}\")     \n",
    "            \n",
    "print('#'.center(60,'#'))     \n",
    "try:\n",
    "    obj = Vowel()\n",
    "    obj.count_vowel()\n",
    "except Exception as e:\n",
    "    print(f\"Error : {e}\")\n",
    "finally:\n",
    "    print('#'.center(60,'#'))\n"
   ]
  }
 ],
 "metadata": {
  "kernelspec": {
   "display_name": "Python 3",
   "language": "python",
   "name": "python3"
  },
  "language_info": {
   "codemirror_mode": {
    "name": "ipython",
    "version": 3
   },
   "file_extension": ".py",
   "mimetype": "text/x-python",
   "name": "python",
   "nbconvert_exporter": "python",
   "pygments_lexer": "ipython3",
   "version": "3.12.3"
  }
 },
 "nbformat": 4,
 "nbformat_minor": 2
}
